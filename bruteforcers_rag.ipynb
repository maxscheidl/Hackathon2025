{
 "cells": [
  {
   "metadata": {},
   "cell_type": "markdown",
   "source": [
    "# Orderfox RAG\n",
    "This is the official notebook of the Datathon 2025 Orderfox Challenge from the team \"Bruteforcers\".\n",
    "\n",
    "## Imports"
   ],
   "id": "1708466873887f57"
  },
  {
   "metadata": {
    "ExecuteTime": {
     "end_time": "2025-04-06T08:26:38.970286Z",
     "start_time": "2025-04-06T08:26:38.963253Z"
    }
   },
   "cell_type": "code",
   "source": [
    "from llama_index.core.query_engine import RetrieverQueryEngine\n",
    "from llama_index.llms.openai import OpenAI\n",
    "from llama_index.core import Settings, get_response_synthesizer\n",
    "from llama_index.core.postprocessor import SentenceTransformerRerank, LLMRerank\n",
    "from llama_index.embeddings.openai import OpenAIEmbedding\n",
    "import pickle\n",
    "from typing import List\n",
    "from llama_index.core.retrievers import BaseRetriever, VectorIndexRetriever\n",
    "from llama_index.core import QueryBundle\n",
    "from llama_index.core.schema import NodeWithScore\n",
    "from keyword_dbsqlite import search_documents_bm25\n",
    "from llama_index.core.schema import TextNode\n",
    "import openai\n",
    "\n",
    "from llama_index.core import StorageContext, load_index_from_storage"
   ],
   "id": "2c0a88270abcdc15",
   "outputs": [],
   "execution_count": 52
  },
  {
   "metadata": {},
   "cell_type": "markdown",
   "source": [
    "## Hyperparameters\n",
    "\n",
    "Set the hyperparameters for the RAG pipeline."
   ],
   "id": "ea4d2c21a33139cb"
  },
  {
   "metadata": {
    "ExecuteTime": {
     "end_time": "2025-04-06T08:26:38.979703Z",
     "start_time": "2025-04-06T08:26:38.975805Z"
    }
   },
   "cell_type": "code",
   "source": [
    "RETRIEVAL_TOP_K = 10            # Number of documents to retrieve from the vector database\n",
    "KEYWORD_TOP_K = 2               # Number of documents to retrieve from the keyword search\n",
    "RERANK_TOP_K = 5                # Number of documents to keep after reranking\n",
    "\n",
    "MAX_TOKEN_GENERATION = 1000     # Max tokens for the LLM generation\n",
    "\n",
    "MODEL = 'gpt-4o-mini'\n",
    "API_KEY = ..."
   ],
   "id": "52eab908fe7015e4",
   "outputs": [],
   "execution_count": 53
  },
  {
   "metadata": {},
   "cell_type": "markdown",
   "source": "# General Setup",
   "id": "2c136af1216b51f2"
  },
  {
   "metadata": {
    "ExecuteTime": {
     "end_time": "2025-04-06T08:26:38.992350Z",
     "start_time": "2025-04-06T08:26:38.986723Z"
    }
   },
   "cell_type": "code",
   "source": [
    "llm = OpenAI(\n",
    "    model=MODEL,\n",
    "    engine=MODEL,\n",
    "    max_tokens=MAX_TOKEN_GENERATION,\n",
    "    api_key=API_KEY,\n",
    "    temperature=0\n",
    ")\n",
    "\n",
    "embed_model = OpenAIEmbedding(\n",
    "    embed_batch_size=10,\n",
    "    api_key=API_KEY,\n",
    "    model=\"text-embedding-3-small\"\n",
    ")\n",
    "\n",
    "reranker = LLMRerank(\n",
    "    llm=llm,\n",
    "    choice_batch_size=5,\n",
    "    top_n=RERANK_TOP_K\n",
    ")\n",
    "\n",
    "Settings.llm = llm\n",
    "Settings.embed_model = embed_model"
   ],
   "id": "c676cfb0f7a69a6a",
   "outputs": [],
   "execution_count": 54
  },
  {
   "metadata": {},
   "cell_type": "markdown",
   "source": "## Custom Classes",
   "id": "58b883d766fde4"
  },
  {
   "metadata": {
    "ExecuteTime": {
     "end_time": "2025-04-06T08:26:39.001786Z",
     "start_time": "2025-04-06T08:26:38.997692Z"
    }
   },
   "cell_type": "code",
   "source": [
    "def prompt_to_keywordsearch(prompt, api_key) -> List[str]:\n",
    "    \"\"\"Convert a prompt to keywords for searching.\"\"\"\n",
    "    input_content = f\"\"\"Extract the most specific, relevant, and meaningful keywords\n",
    "    from the following text: '{prompt}'. Exclude stop words and return the keywords as\n",
    "    a space-separated string. Less is more, max 5 words.\"\"\"\n",
    "\n",
    "    client = openai.OpenAI(api_key=api_key)\n",
    "    response = client.responses.create(\n",
    "        model=\"gpt-4o-mini\",\n",
    "        input=[{\"role\": \"user\", \"content\": input_content}],\n",
    "    )\n",
    "    if response is None:\n",
    "        print(\"No response from LLM\")\n",
    "        return []\n",
    "    return response.output_text.split(\" \")"
   ],
   "id": "55f42c3b7a9f8643",
   "outputs": [],
   "execution_count": 55
  },
  {
   "metadata": {
    "ExecuteTime": {
     "end_time": "2025-04-06T08:26:39.012459Z",
     "start_time": "2025-04-06T08:26:39.007280Z"
    }
   },
   "cell_type": "code",
   "source": [
    "class CustomRetriever(BaseRetriever):\n",
    "    \"\"\"Looks up the query in all indices and concatenates the retrieved nodes to one list.\"\"\"\n",
    "\n",
    "    def __init__(self, vector_retriever: VectorIndexRetriever, llm, api_key, my_reranker: SentenceTransformerRerank) -> None:\n",
    "\n",
    "        \"\"\"Init params.\"\"\"\n",
    "        self.vector_retriever = vector_retriever\n",
    "        self.my_reranker = my_reranker\n",
    "        self.llm = llm\n",
    "        self.api_key = api_key\n",
    "\n",
    "        super().__init__()\n",
    "\n",
    "    def _retrieve(self, query_bundle: QueryBundle) -> List[NodeWithScore]:\n",
    "        \"\"\"Retrieve nodes given query.\"\"\"\n",
    "\n",
    "        # vector search\n",
    "        print(f\"Vector Retrieval for following query: {query_bundle.query_str}\")\n",
    "        vector_nodes = self.vector_retriever.retrieve(query_bundle)\n",
    "\n",
    "        # keyword search\n",
    "        keywords = prompt_to_keywordsearch(query_bundle, self.api_key)\n",
    "        print(f\"Retrieving documents for keywords: {keywords}\")\n",
    "        for doc_id, content, score in search_documents_bm25(keywords, top_k=KEYWORD_TOP_K):\n",
    "            # print(f\"📄 Doc {doc_id} / {score}: {content[:100]}\")\n",
    "            node = TextNode(text=content)\n",
    "            node_with_score = NodeWithScore(node=node, score = 0.5)\n",
    "            vector_nodes.append(node_with_score)\n",
    "\n",
    "        # rerank\n",
    "        if self.my_reranker:\n",
    "            print(f\"BEFORE reranking we have following {len(vector_nodes)} retrieved nodes -----------------------\")\n",
    "            vector_nodes = self.my_reranker.postprocess_nodes(nodes=vector_nodes, query_bundle=query_bundle)\n",
    "            print(f\"AFTER reranking we have following {len(vector_nodes)} retrieved nodes -----------------------\")\n",
    "\n",
    "        print(f\"Returning {len(vector_nodes)} nodes\")\n",
    "        return vector_nodes"
   ],
   "id": "1712fcc91eda2389",
   "outputs": [],
   "execution_count": 56
  },
  {
   "metadata": {},
   "cell_type": "markdown",
   "source": "## Setting up",
   "id": "202a528439e5f44"
  },
  {
   "metadata": {
    "ExecuteTime": {
     "end_time": "2025-04-06T08:26:41.289543Z",
     "start_time": "2025-04-06T08:26:39.018722Z"
    }
   },
   "cell_type": "code",
   "source": [
    "# index = load_index_from_storage(StorageContext.from_defaults(persist_dir=index_folder_name))\n",
    "index = pickle.load(open(\"TestDBBaseUrlOnly.pkl\", \"rb\"))\n",
    "\n",
    "retriever = VectorIndexRetriever(index=index, similarity_top_k=RETRIEVAL_TOP_K)\n",
    "custom_retriever = CustomRetriever(retriever, llm, API_KEY, reranker)\n",
    "\n",
    "retriever_query_engine = RetrieverQueryEngine(\n",
    "    retriever=custom_retriever,\n",
    "    response_synthesizer=get_response_synthesizer()\n",
    ")"
   ],
   "id": "3217466641a3bc86",
   "outputs": [],
   "execution_count": 57
  },
  {
   "metadata": {},
   "cell_type": "markdown",
   "source": "## Inference",
   "id": "3248c4876d21824f"
  },
  {
   "metadata": {
    "ExecuteTime": {
     "end_time": "2025-04-06T08:26:48.854466Z",
     "start_time": "2025-04-06T08:26:41.295593Z"
    }
   },
   "cell_type": "code",
   "source": [
    "question = \"Which companies in Italy produce Aluminum auto components?\"\n",
    "\n",
    "response = retriever_query_engine.query(question)"
   ],
   "id": "34953e47e7d97872",
   "outputs": [
    {
     "name": "stdout",
     "output_type": "stream",
     "text": [
      "Vector Retrieval for following query: Which companies in Italy produce Aluminum auto components?\n",
      "Retrieving documents for keywords: ['Italy', 'Aluminum', 'auto', 'components', 'companies']\n",
      "BEFORE reranking we have following 10 retrieved nodes -----------------------\n",
      "AFTER reranking we have following 5 retrieved nodes -----------------------\n",
      "Returning 5 nodes\n"
     ]
    }
   ],
   "execution_count": 58
  },
  {
   "metadata": {
    "ExecuteTime": {
     "end_time": "2025-04-06T08:26:48.872759Z",
     "start_time": "2025-04-06T08:26:48.866934Z"
    }
   },
   "cell_type": "code",
   "source": "print(response)",
   "id": "75a4c2f809a586f1",
   "outputs": [
    {
     "name": "stdout",
     "output_type": "stream",
     "text": [
      "In Italy, Flexitech is a company that produces aluminum auto components. They have a facility in Pinerolo, which was acquired in 2021 and specializes in OEM brake hose and shock absorber hose spare parts.\n"
     ]
    }
   ],
   "execution_count": 59
  },
  {
   "metadata": {
    "ExecuteTime": {
     "end_time": "2025-04-06T08:26:48.890624Z",
     "start_time": "2025-04-06T08:26:48.885151Z"
    }
   },
   "cell_type": "code",
   "source": "response.source_nodes",
   "id": "69ee472f6a7435a6",
   "outputs": [
    {
     "data": {
      "text/plain": [
       "[NodeWithScore(node=TextNode(id_='037d95c6-bb99-4209-b3b3-ab711b7fca34', embedding=None, metadata={'website_id': '7854b6cc-90ae-59b3-b4e6-5b5a6ca7bd29', 'website_url': 'https://laminazionesottile.com/', 'pageID': 'page_0', 'url': 'https://laminazionesottile.com/', 'total_content_length': 2892}, excluded_embed_metadata_keys=[], excluded_llm_metadata_keys=[], relationships={<NodeRelationship.SOURCE: '1'>: RelatedNodeInfo(node_id='cc514b29-1237-463a-bd74-5ad965ca7e38', node_type='4', metadata={'website_id': '7854b6cc-90ae-59b3-b4e6-5b5a6ca7bd29', 'website_url': 'https://laminazionesottile.com/', 'pageID': 'page_0', 'url': 'https://laminazionesottile.com/', 'total_content_length': 2892}, hash='a1cd539ffac843c6f782edf278622969c8b9d4d432298f03f9cf5bd795317031'), <NodeRelationship.NEXT: '3'>: RelatedNodeInfo(node_id='89e00784-7077-48d5-adad-fa171f09db88', node_type='1', metadata={}, hash='570686f6c4a74e134a41136abb8db7d70cb4d0c1e061afc925008197e30a43a2')}, metadata_template='{key}: {value}', metadata_separator='\\n', text='Produzione semilavorati in alluminio | Laminazione Sottile\\nInglese\\nItaliano\\nGruppo\\nStoria\\nVisione, Missione e Valori\\nGovernance\\nEtica e Compliance\\nAcademy Guido Moschini\\nProduzione\\nMercati\\nImballaggio Rigido\\nImballaggio Semirigido\\nImballaggio Flessibile\\nRiscaldamento, Ventilazione e Condizionamento\\nAutomotive\\nApplicazioni Industriali\\nEdilizia e Architettura d’Interni\\nNastri Standard e Lastre\\nAeronautico\\nTubi multistrato\\nSostenibilità\\nQualità\\nHSE\\nResponsabilità Sociale\\nRapporto Sostenibilità\\nCertificazioni\\nCataloghi\\nNews\\nBlog\\nLavora con Noi\\nFornitori\\nContatti\\nSearch for:\\nImage Slide 2\\nImage Slide 3\\nImage Slide 3\\nImage Slide 1\\nImage Slide 3\\nIl Gruppo\\nIl\\nGruppo Laminazione Sottile\\n, con 100 anni di esperienza, è composto da 10 aziende integrate in filiera, specializzate nella trasformazione dell’alluminio.\\nDETTAGLI\\nI nostri Prodotti\\nLaminazione Sottile\\nproduce\\nlaminati in alluminio\\nin diverse leghe e misure, con spessori compresi tra 6 micron e 6 mm, per un’ampia gamma di applicazioni.\\nDETTAGLI\\nSostenibilità\\nL’impegno di\\nLaminazione Sottile\\nper uno sviluppo sostenibile e durevole si traduce nell’attenzione costante per l’ambiente, la sicurezza e la salute dei dipendenti.\\nDETTAGLI\\nCertificazioni\\nLaminazione Sottile\\nè un’azienda certificata secondo le norme internazionali in vigore: IATF16949, ISO9001, ISO14001, ISO45001, SA8000, EMAS, AEO-F.\\nDETTAGLI\\nI nostri mercati principali:\\nImballaggio Rigido\\nImballaggio Semirigido\\nImballaggio Flessibile\\nRiscaldamento, Ventilazione e Condizionamento\\nAutomotive\\nApplicazioni Industriali\\nEdilizia e Architettura d’Interni\\nNastri Standard e Lastre\\nAeronautico\\nTubi multistrato\\nLaminazione Sottile\\nfornisce\\nsemilavorati in alluminio\\nper una molteplicità di applicazioni. Fornisce, inoltre,\\nnastri, dischi e\\nfogli di alluminio\\nin una gamma diversificata di leghe e misure.\\nUltime News\\n07 Settembre, 2022\\nNews\\nAluminium 2022\\n04 Agosto, 2022\\nNews\\nRapporto di Sostenibilità 2021\\n20 Maggio, 2022\\nNews\\ni2r Packaging Solutions ottiene il Queen’s Award for Enterprise per la seconda volta\\nLeggi tutto »\\nNAVIGA IL SITO\\nGruppo\\nProduzione\\nMercati\\nSostenibilità\\nCataloghi\\nNews\\nBlog\\nLavora con Noi\\nFornitori\\nContatti\\nCondizioni Generali di Vendita\\nPrivacy Policy\\nCookie Policy\\nWhistleblowing\\nDOVE SIAMO\\nLaminazione Sottile S.p.A.\\nUffici e Stabilimento:\\nS.S. 87 Km 21,200\\n81020 S. Marco Evangelista (CE)\\nItaly\\nLAVORA CON NOI\\nCONTATTI\\ntel.\\n+39 0823 222111\\nfax.\\n+39 0823 451722\\nContattaci\\nISCRIVITI ALLA NEWSLETTER\\nIscriviti alla nostra Newsletter per ricevere via email tutte le novità e le informazioni!', mimetype='text/plain', start_char_idx=0, end_char_idx=2544, metadata_seperator='\\n', text_template='{metadata_str}\\n\\n{content}'), score=8.0),\n",
       " NodeWithScore(node=TextNode(id_='4c4b625b-088a-4ba6-84fb-c967aa2cfd54', embedding=None, metadata={'website_id': 'b7c0ca86-f17b-5e2e-ba4c-919fe3aac130', 'website_url': 'https://flexitech.com/', 'pageID': 'page_0', 'url': 'https://flexitech.com/', 'total_content_length': 7323}, excluded_embed_metadata_keys=[], excluded_llm_metadata_keys=[], relationships={<NodeRelationship.SOURCE: '1'>: RelatedNodeInfo(node_id='d50cb2cc-d96b-4494-9769-3e0f0440fbcd', node_type='4', metadata={'website_id': 'b7c0ca86-f17b-5e2e-ba4c-919fe3aac130', 'website_url': 'https://flexitech.com/', 'pageID': 'page_0', 'url': 'https://flexitech.com/', 'total_content_length': 7323}, hash='5f709017839d58986a4c78053a15b72a45c4b16f1415cd133755b86fb692d3b3'), <NodeRelationship.PREVIOUS: '2'>: RelatedNodeInfo(node_id='6cbc6830-b5d3-480d-8627-5f5059ec84a1', node_type='1', metadata={'website_id': 'b7c0ca86-f17b-5e2e-ba4c-919fe3aac130', 'website_url': 'https://flexitech.com/', 'pageID': 'page_0', 'url': 'https://flexitech.com/', 'total_content_length': 7323}, hash='a3aaefb2bae20b5517c07d92252b1f5e0ef35dd9f46a15469f24ff10e95308f9')}, metadata_template='{key}: {value}', metadata_separator='\\n', text='Find out more\\nFlexitech France\\nFlexitech has 3 sites in France:\\nMontrond les Bains: the group’s historical site which contains a brake hose assembly plant and a complete test laboratory.\\nPanissières: opened in 2001, this site produces hoses to be fitted in European factories.\\nSaint-Just-Saint-Rambert: the company’s head office, which also houses the Research and Innovation and Customer-projects departments, as well as the company’s support activity departments (Sales, Purchasing, IT, Finance, HR).\\nFlexitech China\\nIn Wuxi, a city close to Shanghai, the hose manufacturing and assembly plant was opened in 2016. It contains a complete test laboratory and the best human resources for engineering, project and sales management.\\nFlexitech Romania\\nThe plant is in Ploiesti, an hour’s drive from Bucharest. Opened in 2003, it has a large production capacity with 28 assembly lines. It is an agile set-up and a supplier to a lot of our partners.\\nFlexitech USA\\nFlexitech has been present in the USA since 1999, and in New Boston (Michigan), near to Detroit, has set-up a centre of excellence that brings together Research and Development, customer project management and commercial activities for our North American customers.\\nFlexitech Brazil\\nWe are the only brake hose manufacturer with production facilities in South America, in Sao Paulo, which enables us to satisfy customer requirements and become involved at all project stages quickly and at lower cost. The environmental impact due to transport is also considerably reduced to deliver customers on this continent. Our hose manufacturing and assembly plant also has a test laboratory, “technical support” and sales departments.\\nFlexitech Italy\\nIn 2021, Flexitech acquired BHP, one of the European leaders in OEM brake hose and shock absorber hose spare parts. The company is based in Pinerolo, close to Turin, and has extensive know-how, organisation and production equipment dedicated to this market.\\nhttp://brakehose.it/\\nFlexitech Mexico\\nFlexitech has 3 factories in San Luis Potosí, three hours’ drive from Mexico City.\\nThe first hose assembly plant was built in 2009. The Group’s strong growth in the region led to the construction of a second plant for manufacturing hoses for the region’s needs in 2012; in 2021, the third plant was built to double our assembly capacity.\\nOUR CUSTOMERS\\nGeneral Motor\\nStellantis\\nAudi\\nVolvo\\nBMW\\nGeely\\nCAPSA\\nFerrari\\nVolkswagen\\nFord\\nMercedes-Benz\\nNissan\\nRenault\\nRivian\\nAll customers\\nLeads the transformation of the transportation industry towards a more sustainable world\\nwith our best-in-class hose solutions.\\nFLEXITECH\\nCorporate\\nOur customers\\nQuality, Safety & ESG\\nINNOVATION\\nPRODUCTS\\nOUR SITES\\nCONTACT\\nJOIN US\\nLEGAL NOTICE\\nLinkedin\\nFlexitech © 2024 All rights reserved – Powered by :\\nBridge Digital', mimetype='text/plain', start_char_idx=4531, end_char_idx=7323, metadata_seperator='\\n', text_template='{metadata_str}\\n\\n{content}'), score=8.0),\n",
       " NodeWithScore(node=TextNode(id_='e2bf4c43-c3be-4cd8-8d84-868615fd804b', embedding=None, metadata={'website_id': 'd2eecd4f-efe1-5642-b21e-86b87686ae18', 'website_url': 'https://abc-aluminum.com/', 'pageID': 'page_0', 'url': 'https://abc-aluminum.com/', 'total_content_length': 7578}, excluded_embed_metadata_keys=[], excluded_llm_metadata_keys=[], relationships={<NodeRelationship.SOURCE: '1'>: RelatedNodeInfo(node_id='50d8b654-9395-43f9-9f6f-f37f6a9bd0fb', node_type='4', metadata={'website_id': 'd2eecd4f-efe1-5642-b21e-86b87686ae18', 'website_url': 'https://abc-aluminum.com/', 'pageID': 'page_0', 'url': 'https://abc-aluminum.com/', 'total_content_length': 7578}, hash='9e7d176dfcdab9b6414f20e9da90a72da614740424821493aa28dcbc23169010'), <NodeRelationship.NEXT: '3'>: RelatedNodeInfo(node_id='a28d4533-2331-41fc-8317-80bd3fc13175', node_type='1', metadata={}, hash='22096e41cddafad5ed0f998975196291a567fe347c8dbdc61df3934cb0c3f832')}, metadata_template='{key}: {value}', metadata_separator='\\n', text='Aluminum Extrusion and Anodizing Aluminum Factory in Mexico\\nSkip to content\\nFacebook\\nInstagram\\nLinkedin\\nYoutube\\nContact us:\\n(619) 308-7839\\nHome\\nCompany\\nSupplier\\nAbout Us\\nSuper Green\\nSolutions\\nExtrusion\\nFactory\\nFinishes\\nAssembly\\nFoundry\\nDie Cast\\nNews\\nEspañol\\nMenu\\nHome\\nCompany\\nSupplier\\nAbout Us\\nSuper Green\\nSolutions\\nExtrusion\\nFactory\\nFinishes\\nAssembly\\nFoundry\\nDie Cast\\nNews\\nEspañol\\nContact Us\\nAluminum factory in Mexico: aluminum extrusion, profiles, finishing, fabrication, and assembly/kitting\\nContact us\\nSolutions\\nWe are\\nABC Aluminum\\nA leading\\naluminum company\\nthat generates value within the aluminum industry, giving optimal services for the development of your product. Providing flexibility to adapt to your needs.\\nStrategic\\nalliance\\nCommitted to always provide you with the best quality of aluminum extrusions that we manufacture with personalized attention to your needs. For this, we consider each internal and external process of our company, preserving and improving the industry.\\nMore than 30 years of experience in the market\\nWe are leaders in the manufacture of aluminum extrusions. We achieve high levels of quality in each process while providing a solution for constant improvement to our customers’ requirements.\\nWe are\\nABC Aluminum\\nA leading\\naluminum company\\nthat generates value within the aluminum industry, giving optimal services for the development of your product. Providing flexibility to adapt to your needs.\\n20 years\\nof experience in the market\\nWe are leaders in the manufacture of aluminum extrusions. We achieve high levels of quality in each process while providing a solution for constant improvement to our customers’ requirements.\\nStrategic\\nalliance\\nCommitted to always provide you with the best quality of aluminum extrusions that we manufacture with personalized attention to your needs. For this, we consider each internal and external process of our company, preserving and improving the industry.\\nMarkets\\nWe have a solid track record as\\naluminum distributors\\nfor engineering and design in different industries, finding ourselves in various sectors, such as:\\nBuildings and construction\\nRenewable energy\\nIndustrial machinery and equipment\\nAutomotive and transportation\\nDistributors and standard profiles\\nBuildings and construction\\nIt represents 51% of our production, creating products such as:\\nHandrail system: posts, doors, and accessories\\nBalusters used vertically for the delimitation of decks and other defined areas (this application includes top rail, bottom rail and posts)\\nCurtain wall, aluminum profiles that shape the facades of buildings\\nUsed indoors and finishing of different floors\\nContact us\\nRenewable energy\\nIt represents 28% of our production, manufacturing products such as:\\nSolar rails, entering the sustainable energy industry\\nSolar mounting frames, rail angles on residential, commercial, and institutional roofs\\nContact us\\nIndustrial machinery and equipment\\nIt represents 12% of our production, some profiles created are:\\nAluminum profiles for ramps/platforms for loading, unloading materials in cargo trucks.\\nFluid handling for industrial facilities\\nContact us\\nAutomotive and transportation\\nIt represents 17% of our production:\\nCargo Truck Bed Door Hinges\\nCargo Truck Box Rails\\nOEM and Tier 1 accesories for vehicles\\nContact us\\nDistributors and standard profiles\\nIt represents 1% of our production: Profiles such as tubes, screens, and bars. We have a full architectural catalogue, with over 50 defined extrusion dies.\\nOur full service is recognized in the aluminum industry, designing processes that improve each profile we work with—characterized by our creativity, efficiency, and evolution in the international market.\\nThe United States 75%\\nCanada 12%\\nMexico 8%\\nNew Zealand and Australia 5%\\nContact us\\nOur full service is recognized in the aluminum industry, designing processes that improve each profile we work with—characterized by our creativity, efficiency, and evolution in the international market.\\n0\\n%\\nUnited States\\n0\\n%\\nCanada\\n0\\n%\\nMexico\\n0\\n%\\nNew Zealand and Australia\\nEfficient systems\\nWith our constant evolution, in the recent years, we have invested more than 50 million dollars in new high-tech equipment, optimizing our processes and increasing the quality of our products.\\nLeaders\\nQuality services\\nAt ABC Aluminum, we provide comprehensive services for the development of your aluminum project, with quality control systems, certifications, and an ideal process, where the product is continuously improving.\\nExtrusion\\nFlexibility for your profile\\nExtrusion\\nWe adapt to your needs, providing flexibility and optimization alternatives when creating your idea in aluminum.', mimetype='text/plain', start_char_idx=0, end_char_idx=4649, metadata_seperator='\\n', text_template='{metadata_str}\\n\\n{content}'), score=6.0),\n",
       " NodeWithScore(node=TextNode(id_='a28d4533-2331-41fc-8317-80bd3fc13175', embedding=None, metadata={'website_id': 'd2eecd4f-efe1-5642-b21e-86b87686ae18', 'website_url': 'https://abc-aluminum.com/', 'pageID': 'page_0', 'url': 'https://abc-aluminum.com/', 'total_content_length': 7578}, excluded_embed_metadata_keys=[], excluded_llm_metadata_keys=[], relationships={<NodeRelationship.SOURCE: '1'>: RelatedNodeInfo(node_id='50d8b654-9395-43f9-9f6f-f37f6a9bd0fb', node_type='4', metadata={'website_id': 'd2eecd4f-efe1-5642-b21e-86b87686ae18', 'website_url': 'https://abc-aluminum.com/', 'pageID': 'page_0', 'url': 'https://abc-aluminum.com/', 'total_content_length': 7578}, hash='9e7d176dfcdab9b6414f20e9da90a72da614740424821493aa28dcbc23169010'), <NodeRelationship.PREVIOUS: '2'>: RelatedNodeInfo(node_id='e2bf4c43-c3be-4cd8-8d84-868615fd804b', node_type='1', metadata={'website_id': 'd2eecd4f-efe1-5642-b21e-86b87686ae18', 'website_url': 'https://abc-aluminum.com/', 'pageID': 'page_0', 'url': 'https://abc-aluminum.com/', 'total_content_length': 7578}, hash='f224423e72ffac3a2f5e5bafc5b9a07ddcdf4004ee0d6790ef76ef24bb935eba')}, metadata_template='{key}: {value}', metadata_separator='\\n', text=\"Press 7H, 750K Lb / Month\\nPress 7M, 1.1M Lb / Month\\nPress 8K1, 1.5M Lb / Month\\nPress 8K2, 1.5M Lb / Month\\nPress 8P, 1.5M Lb / Month\\nPress 10S, 1.6M Lb / Month\\nPress 10P, 2.1M Lb / Month\\nExtrusion\\nManufacturing\\nWe understand the requirements of your product\\nManufacturing\\nWe create aluminum profiles with the most advanced technology on the market and according to your ideas or needs as recquired by your project.\\nEMMEGI // 24 ’- 4 axes\\nTekna // 20 '- 3 axes\\nHaas // 84 ”- 3 axles\\nMitsubishi // 21 ’- 3 axles\\nManufacturing\\nFinishes\\nWe provide aesthetics and material integrity\\nFinishes\\nOur anodizing and powder painting service for each of your aluminum profiles is distinguished by performance against corrosion, elements, and aging. Our two main processes for finishing are:\\nAnodized\\nAutomated\\nManual\\nBright Dip\\nElectrostatic painting\\nHorizontal\\nVertical\\nCarrousel\\nFinishes\\nAssembly\\nEverything your product requires, in one place\\nAssembly\\nWe put together the components and provide optimal packaging for your aluminum profile, ready for sale, display, use or storage.\\nKitting services are offered. For this we source components as specified by the customer. Final product is ready for the market.\\nAssembly\\nDie Cast\\nTake the advantage of our high-pressure precision molding\\nDie Cast\\nExperience Precision Die Casting: Excellence in Every Mold. Take the advantage of our high-pressure precision molding.\\nAchieve unparalleled accuracy and consistency in your components.\\nDie Cast\\nCertifications\\nDriven\\nby\\nquality\\nOur certifications support our services and the material for creating different profiles according to the client’s needs. Each process is defined by excellence and quality, complying with established regulations.\\nISO 9001:2015\\nIATF 16949:2016\\nQualicoat Certification\\nIntertek The Home Depot\\nISO 45001\\nCustoms-Trade Partnership Against Terrorism (C-TPAT) certification from the U.S.\\nAAMA 2603, 2604 & 2605\\nUL Certification\\nWe also operate under the regulations of The Aluminum Association and we are members of:\\nAluminum Extruders Council\\nAIAG, Automotive Industry Action Group\\nThe American Institute of Architects\\nSEIA, Solar Energy Industries Association\\nThe Associated General Contractors of America (AGC)\\nPrevious\\nNext\\n30 years of experience in the market with more than\\n3,500 employees\\nContact us\\nMenu\\nHome\\nCompany\\nSuper Green\\nSolutions\\nContact\\nSolutions\\nExtrusion\\nManufacturing\\nFinishes\\nAssembly\\nFoundry\\nContact\\n(619) 240-3526\\n(619) 308-7839\\n011 52 (664) 636-1452\\nFax: (619) 240-7683\\ninfo@abc-aluminum.com\\nHuman Resouces\\n(664) 636-1452\\nEXT 312\\nAddress\\n9051 Siempre Viva Rd Suite K2 San Diego, CA 92154\\nFacebook\\nInstagram\\nInstagram\\nYoutube\\n© 2024 All rights reserved ABC Aluminum Solutions\\nThis site is protected by reCAPTCHA and the Google\\nPrivacy Policy\\nand\\nTerms of Service\\napply.\\nSolution:\\nConversiones\\nDie Cast is more than just Molten Aluminum\\nFull name\\nE-mail\\nCompany\\nCountry\\nUnited States\\nMexico\\nMore info\", mimetype='text/plain', start_char_idx=4650, end_char_idx=7578, metadata_seperator='\\n', text_template='{metadata_str}\\n\\n{content}'), score=5.0),\n",
       " NodeWithScore(node=TextNode(id_='b1e34f69-7165-4c04-bf67-923e79fab265', embedding=None, metadata={'website_id': '654ee931-a1e1-5193-94ab-c8d3f3807db0', 'website_url': 'https://kaiseraluminum.com/', 'pageID': 'page_0', 'url': 'https://kaiseraluminum.com/', 'total_content_length': 3243}, excluded_embed_metadata_keys=[], excluded_llm_metadata_keys=[], relationships={<NodeRelationship.SOURCE: '1'>: RelatedNodeInfo(node_id='d7425506-29bd-444d-9bc0-391517953e4d', node_type='4', metadata={'website_id': '654ee931-a1e1-5193-94ab-c8d3f3807db0', 'website_url': 'https://kaiseraluminum.com/', 'pageID': 'page_0', 'url': 'https://kaiseraluminum.com/', 'total_content_length': 3243}, hash='3c849e471c385e6d7bf35db0a7caf631a6ea993c1145a3a2b12f6469de164444')}, metadata_template='{key}: {value}', metadata_separator='\\n', text=\"Kaiser Aluminum\\nMENU\\nAbout Us\\nOur Company\\nOur History\\nOur Facilities\\nCorporate Values\\nThe Kaiser Experience\\nMarkets\\nAerospace and High Strength\\nPackaging\\nAutomotive Extrusions\\nGeneral Engineering\\nProducts\\nInvestors\\nCreating Sustainable Value\\nCustomer Portal\\nCareers\\nContact Us\\nSearch for:\\nAt Kaiser, “Best in Class” isn’t three empty words on an acrylic award sitting in some conference room. It’s not a throwaway slogan on a coffee cup. For more than 20 years, it’s been our way of doing business. It’s a promise to our customers—and to ourselves. It means we create superior aluminum mill products for the most technically demanding applications for transportation, food and beverage packaging, and industrial markets and deliver them to our customers anywhere in the world. We deliver them on time, or even a day early. And we provide an environment that offers a sense of fulfillment and real opportunities for advancement for all who work here. “Best in Class” is our guiding principle, our mantra, our attitude. Embedded in our culture, it drives us to do all we can to improve how we do business today—then do it even better tomorrow.\\nMAKING A DIFFERENCE IN THE GLOBAL MARKETPLACE\\naerospace &\\nhigh strength\\nmaking\\nplanes\\nlighter,\\nsafer,\\nbetter\\npackaging\\nmaking\\nproducts\\nhealthier,\\neco-friendlier,\\nbetter\\nautomotive\\nextrusions\\nmaking\\nvehicles\\nlighter,\\ngreener,\\nbetter\\ngeneral\\nengineering\\nmaking\\nproducts\\nstronger,\\ncleaner,\\nbetter\\nALUMINUM IS\\n100% recyclable\\nKAISER ALUMINUM IS COMMITTED TO A SUSTAINABLE WORLD\\nYOU'RE INVITED: CAREERS AT KAISER\\nIN THE NEWS\\nTODAY'S STOCK PRICE\\nNASDAQ:\\nKALU\\nMORE STOCK INFORMATION\\nKaiser Aluminum Acquires Alcoa Warrick LLC and Re-enters the Aluminum Packaging Industry\\nThe Warrick facility is a leading producer of can stock for the North American food and beverage packaging industry and differentiates itself through a unique capability in producing high-margin coated products. Secured by multi-year contracts with a blue-chip customer base, the Warrick acquisition provides Kaiser with a non-cyclic end market diversification and excellent opportunities for long-term growth. As one of only four dedicated can sheet mills in North America, Warrick is well-positioned to be a significant participant in the supply chain solution in meeting the growing end market demand, driven by sustainability trends and the secular shift from plastic to aluminum due to its infinite recyclability.\\nPACKAGING\\nKaiser Aluminum Corporation Acquires Additive Metal Manufacturer\\nImperial Machine & Tool Co., a leader in multi-material additive manufacturing and machining technologies for aerospace and defense, automotive, high-tech, and general industrial applications. Imperial provides expertise in\\xa0aluminum, titanium, tantalum, molybdenum, nickel alloys, tungsten, cobalt chromium, and stainless steel and offers a differentiated approach by combining traditional machining knowhow and related technical capabilities with additive manufacturing expertise to drive innovative solutions\\xa0for customers.\\nLearn more about Imperial Machine & tool at\\nwww.imperialmachine.com\\nINVESTORS\\nKaiser makes it possible\\nCONNECT WITH US\\n© 2024 Kaiser Aluminum\\nTerms and Conditions\\nPrivacy Policy\\nContact Us\\nSupplier Terms & Conditions\", mimetype='text/plain', start_char_idx=0, end_char_idx=3243, metadata_seperator='\\n', text_template='{metadata_str}\\n\\n{content}'), score=3.0)]"
      ]
     },
     "execution_count": 60,
     "metadata": {},
     "output_type": "execute_result"
    }
   ],
   "execution_count": 60
  }
 ],
 "metadata": {
  "kernelspec": {
   "display_name": "Python 3",
   "language": "python",
   "name": "python3"
  },
  "language_info": {
   "codemirror_mode": {
    "name": "ipython",
    "version": 2
   },
   "file_extension": ".py",
   "mimetype": "text/x-python",
   "name": "python",
   "nbconvert_exporter": "python",
   "pygments_lexer": "ipython2",
   "version": "2.7.6"
  }
 },
 "nbformat": 4,
 "nbformat_minor": 5
}
